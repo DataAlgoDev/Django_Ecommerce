{
 "cells": [
  {
   "cell_type": "markdown",
   "metadata": {},
   "source": [
    "    Creating virtual environment for python to isolate projects\n",
    "1. pip install virtualenv - Installing globally\n",
    "\n",
    "2. virtualenv venv - Creating virtual environment\n",
    "\n",
    "3. env1/Scripts/activate - Activate virtual environment ( if execution policy is restricted : Get-ExecutionPolicy Set-ExecutionPolicy -ExecutionPolicy RemoteSigned -Scope CurrentUser )\n",
    "\n",
    "4. pip install Django : Installing Django\n",
    "\n",
    "5. django-admin startproject ecommerce : starting a project by creating a repo\n",
    "\n",
    "6. python manage.py runserver : Run the manage.py file inside project repo to run Django server"
   ]
  }
 ],
 "metadata": {
  "language_info": {
   "name": "python"
  }
 },
 "nbformat": 4,
 "nbformat_minor": 2
}
